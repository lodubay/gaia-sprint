{
 "cells": [
  {
   "cell_type": "code",
   "execution_count": null,
   "id": "0e610ac2",
   "metadata": {},
   "outputs": [],
   "source": [
    "galah_path = Path(\"data/GALAH_DR3_main_allstar_v2.fits\")\n",
    "galah_table = Table.read(galah_path, format=\"fits\")\n",
    "galah_df = decode(galah_table.to_pandas())\n",
    "galah_df = galah_df[(galah_df[\"snr_c3_iraf\"] > 30) &\n",
    "                    (galah_df[\"flag_sp\"] == 0) &\n",
    "                    (galah_df[\"flag_fe_h\"] == 0)]\n",
    "# TODO also limit to flag_X_fe for any elemental abundance X\n",
    "galah_df"
   ]
  }
 ],
 "metadata": {
  "kernelspec": {
   "display_name": "Python 3 (ipykernel)",
   "language": "python",
   "name": "python3"
  },
  "language_info": {
   "codemirror_mode": {
    "name": "ipython",
    "version": 3
   },
   "file_extension": ".py",
   "mimetype": "text/x-python",
   "name": "python",
   "nbconvert_exporter": "python",
   "pygments_lexer": "ipython3",
   "version": "3.8.12"
  }
 },
 "nbformat": 4,
 "nbformat_minor": 5
}
